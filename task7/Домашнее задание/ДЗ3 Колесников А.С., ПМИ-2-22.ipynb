{
 "cells": [
  {
   "cell_type": "markdown",
   "metadata": {},
   "source": [
    "# Домашнее задание №3\n",
    "---"
   ]
  },
  {
   "cell_type": "code",
   "execution_count": 136,
   "metadata": {},
   "outputs": [],
   "source": [
    "import pandas as pd\n",
    "import numpy as np\n",
    "%matplotlib inline"
   ]
  },
  {
   "cell_type": "markdown",
   "metadata": {},
   "source": [
    "## Задание 1\n",
    "Загрузите набор данных. Учитывайте, что данные сохранены в кодировке Windows (cp1251)."
   ]
  },
  {
   "cell_type": "code",
   "execution_count": 137,
   "metadata": {},
   "outputs": [
    {
     "data": {
      "text/html": [
       "<div>\n",
       "<style scoped>\n",
       "    .dataframe tbody tr th:only-of-type {\n",
       "        vertical-align: middle;\n",
       "    }\n",
       "\n",
       "    .dataframe tbody tr th {\n",
       "        vertical-align: top;\n",
       "    }\n",
       "\n",
       "    .dataframe thead th {\n",
       "        text-align: right;\n",
       "    }\n",
       "</style>\n",
       "<table border=\"1\" class=\"dataframe\">\n",
       "  <thead>\n",
       "    <tr style=\"text-align: right;\">\n",
       "      <th></th>\n",
       "      <th>Фамилия имя</th>\n",
       "      <th>Школа</th>\n",
       "      <th>Класс</th>\n",
       "      <th>A</th>\n",
       "      <th>B</th>\n",
       "      <th>C</th>\n",
       "      <th>D</th>\n",
       "      <th>Итого   I тур</th>\n",
       "      <th>E</th>\n",
       "      <th>F</th>\n",
       "      <th>G</th>\n",
       "      <th>H</th>\n",
       "      <th>Итого   II тур</th>\n",
       "      <th>Общий итог</th>\n",
       "      <th>Место</th>\n",
       "      <th>Unnamed: 15</th>\n",
       "    </tr>\n",
       "  </thead>\n",
       "  <tbody>\n",
       "    <tr>\n",
       "      <th>0</th>\n",
       "      <td>Ученик 1</td>\n",
       "      <td>Школа 146</td>\n",
       "      <td>10</td>\n",
       "      <td>100.0</td>\n",
       "      <td>100.0</td>\n",
       "      <td>100.0</td>\n",
       "      <td>100.0</td>\n",
       "      <td>400</td>\n",
       "      <td>100.0</td>\n",
       "      <td>100.0</td>\n",
       "      <td>100.0</td>\n",
       "      <td>28.0</td>\n",
       "      <td>328</td>\n",
       "      <td>728</td>\n",
       "      <td>1</td>\n",
       "      <td>Победитель</td>\n",
       "    </tr>\n",
       "    <tr>\n",
       "      <th>1</th>\n",
       "      <td>Ученик 2</td>\n",
       "      <td>Школа 9</td>\n",
       "      <td>11</td>\n",
       "      <td>100.0</td>\n",
       "      <td>100.0</td>\n",
       "      <td>100.0</td>\n",
       "      <td>33.0</td>\n",
       "      <td>333</td>\n",
       "      <td>100.0</td>\n",
       "      <td>100.0</td>\n",
       "      <td>100.0</td>\n",
       "      <td>44.0</td>\n",
       "      <td>344</td>\n",
       "      <td>677</td>\n",
       "      <td>2</td>\n",
       "      <td>Победитель</td>\n",
       "    </tr>\n",
       "    <tr>\n",
       "      <th>2</th>\n",
       "      <td>Ученик 3</td>\n",
       "      <td>Школа 9</td>\n",
       "      <td>11</td>\n",
       "      <td>100.0</td>\n",
       "      <td>100.0</td>\n",
       "      <td>66.0</td>\n",
       "      <td>63.0</td>\n",
       "      <td>329</td>\n",
       "      <td>100.0</td>\n",
       "      <td>100.0</td>\n",
       "      <td>100.0</td>\n",
       "      <td>44.0</td>\n",
       "      <td>344</td>\n",
       "      <td>673</td>\n",
       "      <td>3</td>\n",
       "      <td>Победитель</td>\n",
       "    </tr>\n",
       "    <tr>\n",
       "      <th>3</th>\n",
       "      <td>Ученик 4</td>\n",
       "      <td>Школа 146</td>\n",
       "      <td>11</td>\n",
       "      <td>100.0</td>\n",
       "      <td>100.0</td>\n",
       "      <td>100.0</td>\n",
       "      <td>63.0</td>\n",
       "      <td>363</td>\n",
       "      <td>100.0</td>\n",
       "      <td>68.0</td>\n",
       "      <td>100.0</td>\n",
       "      <td>28.0</td>\n",
       "      <td>296</td>\n",
       "      <td>659</td>\n",
       "      <td>4</td>\n",
       "      <td>Призер</td>\n",
       "    </tr>\n",
       "    <tr>\n",
       "      <th>4</th>\n",
       "      <td>Ученик 5</td>\n",
       "      <td>Школа 9</td>\n",
       "      <td>11</td>\n",
       "      <td>100.0</td>\n",
       "      <td>100.0</td>\n",
       "      <td>66.0</td>\n",
       "      <td>63.0</td>\n",
       "      <td>329</td>\n",
       "      <td>100.0</td>\n",
       "      <td>100.0</td>\n",
       "      <td>49.0</td>\n",
       "      <td>28.0</td>\n",
       "      <td>277</td>\n",
       "      <td>606</td>\n",
       "      <td>5</td>\n",
       "      <td>Призер</td>\n",
       "    </tr>\n",
       "    <tr>\n",
       "      <th>...</th>\n",
       "      <td>...</td>\n",
       "      <td>...</td>\n",
       "      <td>...</td>\n",
       "      <td>...</td>\n",
       "      <td>...</td>\n",
       "      <td>...</td>\n",
       "      <td>...</td>\n",
       "      <td>...</td>\n",
       "      <td>...</td>\n",
       "      <td>...</td>\n",
       "      <td>...</td>\n",
       "      <td>...</td>\n",
       "      <td>...</td>\n",
       "      <td>...</td>\n",
       "      <td>...</td>\n",
       "      <td>...</td>\n",
       "    </tr>\n",
       "    <tr>\n",
       "      <th>72</th>\n",
       "      <td>Ученик 73</td>\n",
       "      <td>Школа 146</td>\n",
       "      <td>11</td>\n",
       "      <td>NaN</td>\n",
       "      <td>0.0</td>\n",
       "      <td>0.0</td>\n",
       "      <td>NaN</td>\n",
       "      <td>0</td>\n",
       "      <td>100.0</td>\n",
       "      <td>15.0</td>\n",
       "      <td>23.0</td>\n",
       "      <td>14.0</td>\n",
       "      <td>152</td>\n",
       "      <td>152</td>\n",
       "      <td>73</td>\n",
       "      <td>NaN</td>\n",
       "    </tr>\n",
       "    <tr>\n",
       "      <th>73</th>\n",
       "      <td>Ученик 74</td>\n",
       "      <td>Школа 9</td>\n",
       "      <td>9</td>\n",
       "      <td>48.0</td>\n",
       "      <td>26.0</td>\n",
       "      <td>NaN</td>\n",
       "      <td>NaN</td>\n",
       "      <td>74</td>\n",
       "      <td>25.0</td>\n",
       "      <td>0.0</td>\n",
       "      <td>21.0</td>\n",
       "      <td>NaN</td>\n",
       "      <td>46</td>\n",
       "      <td>120</td>\n",
       "      <td>74</td>\n",
       "      <td>NaN</td>\n",
       "    </tr>\n",
       "    <tr>\n",
       "      <th>74</th>\n",
       "      <td>Ученик 75</td>\n",
       "      <td>Школа 146</td>\n",
       "      <td>11</td>\n",
       "      <td>100.0</td>\n",
       "      <td>3.0</td>\n",
       "      <td>NaN</td>\n",
       "      <td>NaN</td>\n",
       "      <td>103</td>\n",
       "      <td>NaN</td>\n",
       "      <td>NaN</td>\n",
       "      <td>NaN</td>\n",
       "      <td>NaN</td>\n",
       "      <td>0</td>\n",
       "      <td>103</td>\n",
       "      <td>75</td>\n",
       "      <td>NaN</td>\n",
       "    </tr>\n",
       "    <tr>\n",
       "      <th>75</th>\n",
       "      <td>Ученик 76</td>\n",
       "      <td>Школа 146</td>\n",
       "      <td>11</td>\n",
       "      <td>48.0</td>\n",
       "      <td>3.0</td>\n",
       "      <td>NaN</td>\n",
       "      <td>NaN</td>\n",
       "      <td>51</td>\n",
       "      <td>NaN</td>\n",
       "      <td>NaN</td>\n",
       "      <td>NaN</td>\n",
       "      <td>NaN</td>\n",
       "      <td>0</td>\n",
       "      <td>51</td>\n",
       "      <td>76</td>\n",
       "      <td>NaN</td>\n",
       "    </tr>\n",
       "    <tr>\n",
       "      <th>76</th>\n",
       "      <td>Ученик 77</td>\n",
       "      <td>Березники</td>\n",
       "      <td>11</td>\n",
       "      <td>NaN</td>\n",
       "      <td>NaN</td>\n",
       "      <td>NaN</td>\n",
       "      <td>NaN</td>\n",
       "      <td>0</td>\n",
       "      <td>NaN</td>\n",
       "      <td>NaN</td>\n",
       "      <td>NaN</td>\n",
       "      <td>NaN</td>\n",
       "      <td>0</td>\n",
       "      <td>0</td>\n",
       "      <td>77</td>\n",
       "      <td>NaN</td>\n",
       "    </tr>\n",
       "  </tbody>\n",
       "</table>\n",
       "<p>77 rows × 16 columns</p>\n",
       "</div>"
      ],
      "text/plain": [
       "   Фамилия имя      Школа  Класс      A      B      C      D  Итого   I тур  \\\n",
       "0     Ученик 1  Школа 146     10  100.0  100.0  100.0  100.0            400   \n",
       "1     Ученик 2    Школа 9     11  100.0  100.0  100.0   33.0            333   \n",
       "2     Ученик 3    Школа 9     11  100.0  100.0   66.0   63.0            329   \n",
       "3     Ученик 4  Школа 146     11  100.0  100.0  100.0   63.0            363   \n",
       "4     Ученик 5    Школа 9     11  100.0  100.0   66.0   63.0            329   \n",
       "..         ...        ...    ...    ...    ...    ...    ...            ...   \n",
       "72   Ученик 73  Школа 146     11    NaN    0.0    0.0    NaN              0   \n",
       "73   Ученик 74    Школа 9      9   48.0   26.0    NaN    NaN             74   \n",
       "74   Ученик 75  Школа 146     11  100.0    3.0    NaN    NaN            103   \n",
       "75   Ученик 76  Школа 146     11   48.0    3.0    NaN    NaN             51   \n",
       "76   Ученик 77  Березники     11    NaN    NaN    NaN    NaN              0   \n",
       "\n",
       "        E      F      G     H  Итого   II тур  Общий итог  Место Unnamed: 15  \n",
       "0   100.0  100.0  100.0  28.0             328         728      1  Победитель  \n",
       "1   100.0  100.0  100.0  44.0             344         677      2  Победитель  \n",
       "2   100.0  100.0  100.0  44.0             344         673      3  Победитель  \n",
       "3   100.0   68.0  100.0  28.0             296         659      4      Призер  \n",
       "4   100.0  100.0   49.0  28.0             277         606      5      Призер  \n",
       "..    ...    ...    ...   ...             ...         ...    ...         ...  \n",
       "72  100.0   15.0   23.0  14.0             152         152     73         NaN  \n",
       "73   25.0    0.0   21.0   NaN              46         120     74         NaN  \n",
       "74    NaN    NaN    NaN   NaN               0         103     75         NaN  \n",
       "75    NaN    NaN    NaN   NaN               0          51     76         NaN  \n",
       "76    NaN    NaN    NaN   NaN               0           0     77         NaN  \n",
       "\n",
       "[77 rows x 16 columns]"
      ]
     },
     "execution_count": 137,
     "metadata": {},
     "output_type": "execute_result"
    }
   ],
   "source": [
    "olympiad_results = pd.read_csv(\"Результаты олимпиады.csv\", sep=';', encoding=\"utf-8\")\n",
    "olympiad_results"
   ]
  },
  {
   "cell_type": "markdown",
   "metadata": {},
   "source": [
    "## Задание 2\n",
    "Заполните пропущенные значения в результатах решения задач. Каким значением лучше заполнять пропущенные значения (исходите из специфики набора данных)?"
   ]
  },
  {
   "cell_type": "markdown",
   "metadata": {},
   "source": [
    "Лучше всего пропущенные значения заполнить нулями. Из специфики набора данных это будет ознозачть, что определенная команда получила 0 баллов за решение соответствующей задачи."
   ]
  },
  {
   "cell_type": "code",
   "execution_count": 138,
   "metadata": {},
   "outputs": [
    {
     "data": {
      "text/html": [
       "<div>\n",
       "<style scoped>\n",
       "    .dataframe tbody tr th:only-of-type {\n",
       "        vertical-align: middle;\n",
       "    }\n",
       "\n",
       "    .dataframe tbody tr th {\n",
       "        vertical-align: top;\n",
       "    }\n",
       "\n",
       "    .dataframe thead th {\n",
       "        text-align: right;\n",
       "    }\n",
       "</style>\n",
       "<table border=\"1\" class=\"dataframe\">\n",
       "  <thead>\n",
       "    <tr style=\"text-align: right;\">\n",
       "      <th></th>\n",
       "      <th>Фамилия имя</th>\n",
       "      <th>Школа</th>\n",
       "      <th>Класс</th>\n",
       "      <th>A</th>\n",
       "      <th>B</th>\n",
       "      <th>C</th>\n",
       "      <th>D</th>\n",
       "      <th>Итого   I тур</th>\n",
       "      <th>E</th>\n",
       "      <th>F</th>\n",
       "      <th>G</th>\n",
       "      <th>H</th>\n",
       "      <th>Итого   II тур</th>\n",
       "      <th>Общий итог</th>\n",
       "      <th>Место</th>\n",
       "      <th>Unnamed: 15</th>\n",
       "    </tr>\n",
       "  </thead>\n",
       "  <tbody>\n",
       "    <tr>\n",
       "      <th>0</th>\n",
       "      <td>Ученик 1</td>\n",
       "      <td>Школа 146</td>\n",
       "      <td>10</td>\n",
       "      <td>100.0</td>\n",
       "      <td>100.0</td>\n",
       "      <td>100.0</td>\n",
       "      <td>100.0</td>\n",
       "      <td>400</td>\n",
       "      <td>100.0</td>\n",
       "      <td>100.0</td>\n",
       "      <td>100.0</td>\n",
       "      <td>28.0</td>\n",
       "      <td>328</td>\n",
       "      <td>728</td>\n",
       "      <td>1</td>\n",
       "      <td>Победитель</td>\n",
       "    </tr>\n",
       "    <tr>\n",
       "      <th>1</th>\n",
       "      <td>Ученик 2</td>\n",
       "      <td>Школа 9</td>\n",
       "      <td>11</td>\n",
       "      <td>100.0</td>\n",
       "      <td>100.0</td>\n",
       "      <td>100.0</td>\n",
       "      <td>33.0</td>\n",
       "      <td>333</td>\n",
       "      <td>100.0</td>\n",
       "      <td>100.0</td>\n",
       "      <td>100.0</td>\n",
       "      <td>44.0</td>\n",
       "      <td>344</td>\n",
       "      <td>677</td>\n",
       "      <td>2</td>\n",
       "      <td>Победитель</td>\n",
       "    </tr>\n",
       "    <tr>\n",
       "      <th>2</th>\n",
       "      <td>Ученик 3</td>\n",
       "      <td>Школа 9</td>\n",
       "      <td>11</td>\n",
       "      <td>100.0</td>\n",
       "      <td>100.0</td>\n",
       "      <td>66.0</td>\n",
       "      <td>63.0</td>\n",
       "      <td>329</td>\n",
       "      <td>100.0</td>\n",
       "      <td>100.0</td>\n",
       "      <td>100.0</td>\n",
       "      <td>44.0</td>\n",
       "      <td>344</td>\n",
       "      <td>673</td>\n",
       "      <td>3</td>\n",
       "      <td>Победитель</td>\n",
       "    </tr>\n",
       "    <tr>\n",
       "      <th>3</th>\n",
       "      <td>Ученик 4</td>\n",
       "      <td>Школа 146</td>\n",
       "      <td>11</td>\n",
       "      <td>100.0</td>\n",
       "      <td>100.0</td>\n",
       "      <td>100.0</td>\n",
       "      <td>63.0</td>\n",
       "      <td>363</td>\n",
       "      <td>100.0</td>\n",
       "      <td>68.0</td>\n",
       "      <td>100.0</td>\n",
       "      <td>28.0</td>\n",
       "      <td>296</td>\n",
       "      <td>659</td>\n",
       "      <td>4</td>\n",
       "      <td>Призер</td>\n",
       "    </tr>\n",
       "    <tr>\n",
       "      <th>4</th>\n",
       "      <td>Ученик 5</td>\n",
       "      <td>Школа 9</td>\n",
       "      <td>11</td>\n",
       "      <td>100.0</td>\n",
       "      <td>100.0</td>\n",
       "      <td>66.0</td>\n",
       "      <td>63.0</td>\n",
       "      <td>329</td>\n",
       "      <td>100.0</td>\n",
       "      <td>100.0</td>\n",
       "      <td>49.0</td>\n",
       "      <td>28.0</td>\n",
       "      <td>277</td>\n",
       "      <td>606</td>\n",
       "      <td>5</td>\n",
       "      <td>Призер</td>\n",
       "    </tr>\n",
       "    <tr>\n",
       "      <th>...</th>\n",
       "      <td>...</td>\n",
       "      <td>...</td>\n",
       "      <td>...</td>\n",
       "      <td>...</td>\n",
       "      <td>...</td>\n",
       "      <td>...</td>\n",
       "      <td>...</td>\n",
       "      <td>...</td>\n",
       "      <td>...</td>\n",
       "      <td>...</td>\n",
       "      <td>...</td>\n",
       "      <td>...</td>\n",
       "      <td>...</td>\n",
       "      <td>...</td>\n",
       "      <td>...</td>\n",
       "      <td>...</td>\n",
       "    </tr>\n",
       "    <tr>\n",
       "      <th>72</th>\n",
       "      <td>Ученик 73</td>\n",
       "      <td>Школа 146</td>\n",
       "      <td>11</td>\n",
       "      <td>0.0</td>\n",
       "      <td>0.0</td>\n",
       "      <td>0.0</td>\n",
       "      <td>0.0</td>\n",
       "      <td>0</td>\n",
       "      <td>100.0</td>\n",
       "      <td>15.0</td>\n",
       "      <td>23.0</td>\n",
       "      <td>14.0</td>\n",
       "      <td>152</td>\n",
       "      <td>152</td>\n",
       "      <td>73</td>\n",
       "      <td>NaN</td>\n",
       "    </tr>\n",
       "    <tr>\n",
       "      <th>73</th>\n",
       "      <td>Ученик 74</td>\n",
       "      <td>Школа 9</td>\n",
       "      <td>9</td>\n",
       "      <td>48.0</td>\n",
       "      <td>26.0</td>\n",
       "      <td>0.0</td>\n",
       "      <td>0.0</td>\n",
       "      <td>74</td>\n",
       "      <td>25.0</td>\n",
       "      <td>0.0</td>\n",
       "      <td>21.0</td>\n",
       "      <td>0.0</td>\n",
       "      <td>46</td>\n",
       "      <td>120</td>\n",
       "      <td>74</td>\n",
       "      <td>NaN</td>\n",
       "    </tr>\n",
       "    <tr>\n",
       "      <th>74</th>\n",
       "      <td>Ученик 75</td>\n",
       "      <td>Школа 146</td>\n",
       "      <td>11</td>\n",
       "      <td>100.0</td>\n",
       "      <td>3.0</td>\n",
       "      <td>0.0</td>\n",
       "      <td>0.0</td>\n",
       "      <td>103</td>\n",
       "      <td>0.0</td>\n",
       "      <td>0.0</td>\n",
       "      <td>0.0</td>\n",
       "      <td>0.0</td>\n",
       "      <td>0</td>\n",
       "      <td>103</td>\n",
       "      <td>75</td>\n",
       "      <td>NaN</td>\n",
       "    </tr>\n",
       "    <tr>\n",
       "      <th>75</th>\n",
       "      <td>Ученик 76</td>\n",
       "      <td>Школа 146</td>\n",
       "      <td>11</td>\n",
       "      <td>48.0</td>\n",
       "      <td>3.0</td>\n",
       "      <td>0.0</td>\n",
       "      <td>0.0</td>\n",
       "      <td>51</td>\n",
       "      <td>0.0</td>\n",
       "      <td>0.0</td>\n",
       "      <td>0.0</td>\n",
       "      <td>0.0</td>\n",
       "      <td>0</td>\n",
       "      <td>51</td>\n",
       "      <td>76</td>\n",
       "      <td>NaN</td>\n",
       "    </tr>\n",
       "    <tr>\n",
       "      <th>76</th>\n",
       "      <td>Ученик 77</td>\n",
       "      <td>Березники</td>\n",
       "      <td>11</td>\n",
       "      <td>0.0</td>\n",
       "      <td>0.0</td>\n",
       "      <td>0.0</td>\n",
       "      <td>0.0</td>\n",
       "      <td>0</td>\n",
       "      <td>0.0</td>\n",
       "      <td>0.0</td>\n",
       "      <td>0.0</td>\n",
       "      <td>0.0</td>\n",
       "      <td>0</td>\n",
       "      <td>0</td>\n",
       "      <td>77</td>\n",
       "      <td>NaN</td>\n",
       "    </tr>\n",
       "  </tbody>\n",
       "</table>\n",
       "<p>77 rows × 16 columns</p>\n",
       "</div>"
      ],
      "text/plain": [
       "   Фамилия имя      Школа  Класс      A      B      C      D  Итого   I тур  \\\n",
       "0     Ученик 1  Школа 146     10  100.0  100.0  100.0  100.0            400   \n",
       "1     Ученик 2    Школа 9     11  100.0  100.0  100.0   33.0            333   \n",
       "2     Ученик 3    Школа 9     11  100.0  100.0   66.0   63.0            329   \n",
       "3     Ученик 4  Школа 146     11  100.0  100.0  100.0   63.0            363   \n",
       "4     Ученик 5    Школа 9     11  100.0  100.0   66.0   63.0            329   \n",
       "..         ...        ...    ...    ...    ...    ...    ...            ...   \n",
       "72   Ученик 73  Школа 146     11    0.0    0.0    0.0    0.0              0   \n",
       "73   Ученик 74    Школа 9      9   48.0   26.0    0.0    0.0             74   \n",
       "74   Ученик 75  Школа 146     11  100.0    3.0    0.0    0.0            103   \n",
       "75   Ученик 76  Школа 146     11   48.0    3.0    0.0    0.0             51   \n",
       "76   Ученик 77  Березники     11    0.0    0.0    0.0    0.0              0   \n",
       "\n",
       "        E      F      G     H  Итого   II тур  Общий итог  Место Unnamed: 15  \n",
       "0   100.0  100.0  100.0  28.0             328         728      1  Победитель  \n",
       "1   100.0  100.0  100.0  44.0             344         677      2  Победитель  \n",
       "2   100.0  100.0  100.0  44.0             344         673      3  Победитель  \n",
       "3   100.0   68.0  100.0  28.0             296         659      4      Призер  \n",
       "4   100.0  100.0   49.0  28.0             277         606      5      Призер  \n",
       "..    ...    ...    ...   ...             ...         ...    ...         ...  \n",
       "72  100.0   15.0   23.0  14.0             152         152     73         NaN  \n",
       "73   25.0    0.0   21.0   0.0              46         120     74         NaN  \n",
       "74    0.0    0.0    0.0   0.0               0         103     75         NaN  \n",
       "75    0.0    0.0    0.0   0.0               0          51     76         NaN  \n",
       "76    0.0    0.0    0.0   0.0               0           0     77         NaN  \n",
       "\n",
       "[77 rows x 16 columns]"
      ]
     },
     "execution_count": 138,
     "metadata": {},
     "output_type": "execute_result"
    }
   ],
   "source": [
    "olympiad_results[['A','B','C','D','E','F','G','H']] = olympiad_results[['A','B','C','D','E','F','G','H']].fillna(0)\n",
    "olympiad_results"
   ]
  },
  {
   "cell_type": "markdown",
   "metadata": {},
   "source": [
    "## Задание 3\n",
    "Проанализируйте суммарные баллы по каждой задаче. Отсортируйте задачи по убыванию суммарных баллов и постройте столбиковую диаграмму, на которой задачи будут расположены в порядке убывания суммарных баллов."
   ]
  },
  {
   "cell_type": "code",
   "execution_count": 139,
   "metadata": {},
   "outputs": [
    {
     "data": {
      "text/plain": [
       "<AxesSubplot: xlabel='Задачи', ylabel='Баллы'>"
      ]
     },
     "execution_count": 139,
     "metadata": {},
     "output_type": "execute_result"
    },
    {
     "data": {
      "image/png": "[encoded data removed]",
      "text/plain": [
       "<Figure size 1000x500 with 1 Axes>"
      ]
     },
     "metadata": {},
     "output_type": "display_data"
    }
   ],
   "source": [
    "olympiad_results[['A','B','C','D','E','F','G','H']].sum().sort_values(ascending=False).plot.bar(xlabel='Задачи', ylabel='Баллы', figsize=(10,5))"
   ]
  },
  {
   "cell_type": "markdown",
   "metadata": {},
   "source": [
    "## Задание 4\n",
    "Попробуем понять какой из туров олимпиады оказался сложнее."
   ]
  },
  {
   "cell_type": "markdown",
   "metadata": {},
   "source": [
    "а) посчитаем общую сумму баллов, набранных участниками за каждый из туров олимпиады "
   ]
  },
  {
   "cell_type": "code",
   "execution_count": 140,
   "metadata": {},
   "outputs": [
    {
     "data": {
      "text/plain": [
       "Итого   I тур     12971\n",
       "Итого   II тур    11577\n",
       "dtype: int64"
      ]
     },
     "execution_count": 140,
     "metadata": {},
     "output_type": "execute_result"
    }
   ],
   "source": [
    "olympiad_results[['Итого   I тур', 'Итого   II тур']].sum()"
   ]
  },
  {
   "cell_type": "markdown",
   "metadata": {},
   "source": [
    "б) отсортируем участников по убыванию итогового балла и на столбиковой диаграмме отразим результаты их суммарные результаты за первый и второй тур олимпиады. Опишите, какую закономерность Вы увидели на этой диаграмме."
   ]
  },
  {
   "cell_type": "code",
   "execution_count": 141,
   "metadata": {},
   "outputs": [
    {
     "data": {
      "text/plain": [
       "<AxesSubplot: xlabel='Фамилия имя'>"
      ]
     },
     "execution_count": 141,
     "metadata": {},
     "output_type": "execute_result"
    },
    {
     "data": {
      "image/png": "[encoded data removed]",
      "text/plain": [
       "<Figure size 1500x800 with 1 Axes>"
      ]
     },
     "metadata": {},
     "output_type": "display_data"
    }
   ],
   "source": [
    "olympiad_results.sort_values('Общий итог', ascending=False).plot.bar(x='Фамилия имя', y=['Общий итог'], figsize=(15, 8))"
   ]
  },
  {
   "cell_type": "markdown",
   "metadata": {},
   "source": [
    "Данный график описывает сигмоиду\n",
    "$$x=-\\frac{1}{1+e^{3-8y}}+1$$"
   ]
  },
  {
   "cell_type": "markdown",
   "metadata": {},
   "source": [
    "## Задание 5\n",
    "Отфильтруйте набор данных, оставив только победителей и призеров. Определите сколько победителей и призеров в той или иной школе и расположите школы в порядке убывания этого количества. Представьте эти данные графически."
   ]
  },
  {
   "cell_type": "code",
   "execution_count": 142,
   "metadata": {},
   "outputs": [
    {
     "data": {
      "text/plain": [
       "<AxesSubplot: xlabel='Школа'>"
      ]
     },
     "execution_count": 142,
     "metadata": {},
     "output_type": "execute_result"
    },
    {
     "data": {
      "image/png": "[encoded data removed]",
      "text/plain": [
       "<Figure size 640x480 with 1 Axes>"
      ]
     },
     "metadata": {},
     "output_type": "display_data"
    }
   ],
   "source": [
    "prize_winners = olympiad_results.loc[olympiad_results['Unnamed: 15'].notna()]\n",
    "prize_winners.groupby('Школа')['Unnamed: 15'].count().sort_values(ascending=False).plot.bar()"
   ]
  },
  {
   "cell_type": "markdown",
   "metadata": {},
   "source": [
    "## Задание 5\n",
    "Творческое задание. Попробуйте самостоятельно определить: чем отличаются 9-ти, 10-ти и 11-классники (восьмиклассников можно рассмотреть отдельной категорией или считать их частью девятиклассников). Может быть одиннадцатиклассники лучше справлялись с какой-то конкретной задачей, или 9-классники в среднем пробовали решать большее число задач, или что-то еще. Возможно, для решения этой задачи стоит обратиться к исходному набору данных, в котором еще были пропущенные значения. Отобразите найденные закономерности графически."
   ]
  },
  {
   "cell_type": "code",
   "execution_count": 143,
   "metadata": {},
   "outputs": [
    {
     "data": {
      "text/plain": [
       "<AxesSubplot: xlabel='Класс'>"
      ]
     },
     "execution_count": 143,
     "metadata": {},
     "output_type": "execute_result"
    },
    {
     "data": {
      "image/png": "[encoded data removed]",
      "text/plain": [
       "<Figure size 640x480 with 1 Axes>"
      ]
     },
     "metadata": {},
     "output_type": "display_data"
    }
   ],
   "source": [
    "olympiad_results.groupby('Класс')['Фамилия имя'].count().sort_values(ascending=False).plot.bar()\n",
    "# olympiad_results"
   ]
  },
  {
   "cell_type": "markdown",
   "metadata": {},
   "source": [
    "Наибольшее количество участников из 10 классов"
   ]
  },
  {
   "cell_type": "code",
   "execution_count": 144,
   "metadata": {},
   "outputs": [
    {
     "data": {
      "text/plain": [
       "<AxesSubplot: xlabel='Класс'>"
      ]
     },
     "execution_count": 144,
     "metadata": {},
     "output_type": "execute_result"
    },
    {
     "data": {
      "image/png": "[encoded data removed]",
      "text/plain": [
       "<Figure size 640x480 with 1 Axes>"
      ]
     },
     "metadata": {},
     "output_type": "display_data"
    }
   ],
   "source": [
    "olympiad_results.groupby('Класс')[['Итого   I тур', 'Итого   II тур']].mean().sort_values(by=['Итого   I тур', 'Итого   II тур'], ascending=False).plot.bar()"
   ]
  },
  {
   "cell_type": "markdown",
   "metadata": {},
   "source": [
    "В среднем ученики 8 класса решили задачи лучше чем остальные классы."
   ]
  },
  {
   "cell_type": "code",
   "execution_count": 145,
   "metadata": {},
   "outputs": [
    {
     "data": {
      "text/plain": [
       "<AxesSubplot: xlabel='Класс'>"
      ]
     },
     "execution_count": 145,
     "metadata": {},
     "output_type": "execute_result"
    },
    {
     "data": {
      "image/png": "[encoded data removed]",
      "text/plain": [
       "<Figure size 1000x400 with 1 Axes>"
      ]
     },
     "metadata": {},
     "output_type": "display_data"
    }
   ],
   "source": [
    "olympiad_results.groupby(['Класс'])[['A','B','C','D']].mean().sort_values(by=['A','B','C','D'], ascending=False).plot.bar(figsize=(10,4))"
   ]
  },
  {
   "cell_type": "markdown",
   "metadata": {},
   "source": [
    "В среднем в 1 туре с задачами C и D хуже всего справились ученики 9 класса, а лучше всех 8 класса, что странно. Также 8 класс показал лучшие средние результаты по первым двум задачам, после них идет 11 класс."
   ]
  },
  {
   "cell_type": "code",
   "execution_count": 146,
   "metadata": {},
   "outputs": [
    {
     "data": {
      "text/plain": [
       "<AxesSubplot: xlabel='Класс'>"
      ]
     },
     "execution_count": 146,
     "metadata": {},
     "output_type": "execute_result"
    },
    {
     "data": {
      "image/png": "[encoded data removed]",
      "text/plain": [
       "<Figure size 1000x500 with 1 Axes>"
      ]
     },
     "metadata": {},
     "output_type": "display_data"
    }
   ],
   "source": [
    "olympiad_results.groupby(['Класс'])[['E','F','G','H']].mean().sort_values(by=['E','F','G','H'], ascending=False).plot.bar(figsize=(10,5))"
   ]
  },
  {
   "cell_type": "markdown",
   "metadata": {},
   "source": [
    "Во 2 туре с первой задачей, в среднем, снова справился лучше всех 8 класс. А с задачами F, G и H также хуже всех справились ученики 9 класса."
   ]
  },
  {
   "cell_type": "code",
   "execution_count": 147,
   "metadata": {},
   "outputs": [
    {
     "data": {
      "text/plain": [
       "<AxesSubplot: xlabel='Класс'>"
      ]
     },
     "execution_count": 147,
     "metadata": {},
     "output_type": "execute_result"
    },
    {
     "data": {
      "image/png": "[encoded data removed]",
      "text/plain": [
       "<Figure size 1000x400 with 1 Axes>"
      ]
     },
     "metadata": {},
     "output_type": "display_data"
    }
   ],
   "source": [
    "olympiad_results = pd.read_csv(\"Результаты олимпиады.csv\", sep=';', encoding=\"utf-8\")\n",
    "who_solved = olympiad_results.groupby('Класс')[['Фамилия имя','A','B','C','D']].count()\n",
    "who_solved_T = who_solved.T\n",
    "(who_solved_T/who_solved_T.max()).T.set_axis(['Всего участников','Решили A','Решили B','Решили C','Решили D'], axis=1).plot.bar(figsize=(10,4))"
   ]
  },
  {
   "cell_type": "markdown",
   "metadata": {},
   "source": [
    "Также можно заметить, что 9 класс был довольно плохо подготовлен к задачам C и D, т.к. взялись за ее решение меньше половины девятиклассников. А 10 и 11 классы были подготовлены лишь наполовину."
   ]
  },
  {
   "cell_type": "code",
   "execution_count": 149,
   "metadata": {},
   "outputs": [
    {
     "data": {
      "text/plain": [
       "<AxesSubplot: xlabel='Класс'>"
      ]
     },
     "execution_count": 149,
     "metadata": {},
     "output_type": "execute_result"
    },
    {
     "data": {
      "image/png": "[encoded data removed]",
      "text/plain": [
       "<Figure size 1200x600 with 1 Axes>"
      ]
     },
     "metadata": {},
     "output_type": "display_data"
    }
   ],
   "source": [
    "who_solved = olympiad_results.groupby('Класс')[['Фамилия имя','E','F','G','H']].count()\n",
    "who_solved_T = who_solved.T\n",
    "(who_solved_T/who_solved_T.max()).T.set_axis(['Всего участников','Решили E','Решили F','Решили G','Решили H'], axis=1).plot.bar(figsize=(12,6))"
   ]
  },
  {
   "cell_type": "markdown",
   "metadata": {},
   "source": [
    "Во втором туре ситуаця луше, однако у 9 класса снова есть сложности с задачей H."
   ]
  }
 ],
 "metadata": {
  "kernelspec": {
   "display_name": "Python 3.9.2 64-bit",
   "language": "python",
   "name": "python3"
  },
  "language_info": {
   "codemirror_mode": {
    "name": "ipython",
    "version": 3
   },
   "file_extension": ".py",
   "mimetype": "text/x-python",
   "name": "python",
   "nbconvert_exporter": "python",
   "pygments_lexer": "ipython3",
   "version": "3.9.2"
  },
  "orig_nbformat": 4,
  "vscode": {
   "interpreter": {
    "hash": "31f2aee4e71d21fbe5cf8b01ff0e069b9275f58929596ceb00d14d90e3e16cd6"
   }
  }
 },
 "nbformat": 4,
 "nbformat_minor": 2
}
