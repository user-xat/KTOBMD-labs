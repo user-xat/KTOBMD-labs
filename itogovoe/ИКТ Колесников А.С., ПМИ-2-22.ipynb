{
 "cells": [
  {
   "cell_type": "code",
   "execution_count": 165,
   "metadata": {
    "executionInfo": {
     "elapsed": 4,
     "status": "ok",
     "timestamp": 1636335245618,
     "user": {
      "displayName": "Ольга Перескокова",
      "photoUrl": "https://lh3.googleusercontent.com/a/default-user=s64",
      "userId": "10861726294687405456"
     },
     "user_tz": -300
    },
    "id": "lbPMIyOvLehY"
   },
   "outputs": [],
   "source": [
    "import pandas as pd\n",
    "import matplotlib.pyplot as plt"
   ]
  },
  {
   "cell_type": "markdown",
   "metadata": {
    "id": "XV6KexKOLehx",
    "pycharm": {
     "name": "#%% md\n"
    }
   },
   "source": [
    "1) Дан словарь слов русского языка.  Выделить группы слов, в которых используется одно и то же множество букв. Например, потоп – топ – пот. Результат сохранить в текстовый файл output.txt. В результирующий файл включать только такие группы слов (по одной группе в строке), в группе должно быть как минимум два слова. Программный код для решения этой задачи должен быть эффективным и словарь должен обрабатываться за приемлемое время."
   ]
  },
  {
   "cell_type": "code",
   "execution_count": 166,
   "metadata": {
    "executionInfo": {
     "elapsed": 689,
     "status": "ok",
     "timestamp": 1636335499254,
     "user": {
      "displayName": "Ольга Перескокова",
      "photoUrl": "https://lh3.googleusercontent.com/a/default-user=s64",
      "userId": "10861726294687405456"
     },
     "user_tz": -300
    },
    "id": "nQ9tsg1zLeh0",
    "pycharm": {
     "name": "#%%\n"
    }
   },
   "outputs": [],
   "source": [
    "groups = dict()\n",
    "with open('slovar.txt', 'r') as fin:\n",
    "    for word in fin:\n",
    "        word = word.strip('\\ufeff\\n')\n",
    "        key = ''.join(sorted(list(frozenset(word))))\n",
    "        if key in groups:\n",
    "            groups[key].append(word)\n",
    "        else:\n",
    "            groups[key] = [word]\n",
    "\n",
    "with open('output.txt', 'w') as fout:\n",
    "    for value in groups.values():\n",
    "        if len(value) > 1:\n",
    "            fout.write(' '.join(value) + '\\n')"
   ]
  },
  {
   "cell_type": "markdown",
   "metadata": {
    "id": "KY3a9BnZLeh1",
    "pycharm": {
     "name": "#%% md\n"
    }
   },
   "source": [
    "2) Посчитать частоту встречаемости слов в результирующем файле, упорядочить по частоте и первые 10 наиболее часто встречавшихся слов отразить на гистограмме."
   ]
  },
  {
   "cell_type": "code",
   "execution_count": 167,
   "metadata": {
    "colab": {
     "base_uri": "https://localhost:8080/",
     "height": 281
    },
    "executionInfo": {
     "elapsed": 849,
     "status": "ok",
     "timestamp": 1636335503225,
     "user": {
      "displayName": "Ольга Перескокова",
      "photoUrl": "https://lh3.googleusercontent.com/a/default-user=s64",
      "userId": "10861726294687405456"
     },
     "user_tz": -300
    },
    "id": "padeK_7RLeh2",
    "outputId": "e9fbf477-038d-43bb-fd0f-0fcd62cbf6a0",
    "pycharm": {
     "name": "#%%\n"
    }
   },
   "outputs": [
    {
     "data": {
      "text/plain": [
       "<AxesSubplot: >"
      ]
     },
     "execution_count": 167,
     "metadata": {},
     "output_type": "execute_result"
    },
    {
     "data": {
      "image/png": "[encoded data removed]",
      "text/plain": [
       "<Figure size 640x480 with 1 Axes>"
      ]
     },
     "metadata": {},
     "output_type": "display_data"
    }
   ],
   "source": [
    "frequency = dict()\n",
    "with open('output.txt', 'r') as fin:\n",
    "    for words in fin:\n",
    "        for word in words.strip().split(' '):\n",
    "            if word in frequency:\n",
    "                frequency[word] += 1\n",
    "            else:\n",
    "                frequency[word] = 1\n",
    "\n",
    "frequency = pd.Series(frequency)\n",
    "frequency.sort_values(ascending=False).head(10).hist()"
   ]
  },
  {
   "cell_type": "markdown",
   "metadata": {
    "id": "I8w3ArRGLeh4",
    "pycharm": {
     "name": "#%% md\n"
    }
   },
   "source": [
    "3) Загрузите набор данных в DataFrame из файла 17 Результаты олимпиады.csv"
   ]
  },
  {
   "cell_type": "code",
   "execution_count": 168,
   "metadata": {
    "colab": {
     "base_uri": "https://localhost:8080/",
     "height": 564
    },
    "executionInfo": {
     "elapsed": 302,
     "status": "ok",
     "timestamp": 1636335585541,
     "user": {
      "displayName": "Ольга Перескокова",
      "photoUrl": "https://lh3.googleusercontent.com/a/default-user=s64",
      "userId": "10861726294687405456"
     },
     "user_tz": -300
    },
    "id": "Yk593ey3Leh5",
    "outputId": "b770bb30-a3a9-4b40-a48c-9278dcfa4956",
    "pycharm": {
     "name": "#%%\n"
    }
   },
   "outputs": [
    {
     "data": {
      "text/html": [
       "<div>\n",
       "<style scoped>\n",
       "    .dataframe tbody tr th:only-of-type {\n",
       "        vertical-align: middle;\n",
       "    }\n",
       "\n",
       "    .dataframe tbody tr th {\n",
       "        vertical-align: top;\n",
       "    }\n",
       "\n",
       "    .dataframe thead th {\n",
       "        text-align: right;\n",
       "    }\n",
       "</style>\n",
       "<table border=\"1\" class=\"dataframe\">\n",
       "  <thead>\n",
       "    <tr style=\"text-align: right;\">\n",
       "      <th></th>\n",
       "      <th>Фамилия,имя</th>\n",
       "      <th>Школа</th>\n",
       "      <th>Класс</th>\n",
       "      <th>A</th>\n",
       "      <th>B</th>\n",
       "      <th>C</th>\n",
       "      <th>D</th>\n",
       "      <th>Итого   I тур</th>\n",
       "      <th>E</th>\n",
       "      <th>F</th>\n",
       "      <th>G</th>\n",
       "      <th>H</th>\n",
       "      <th>Итого   II тур</th>\n",
       "      <th>Общий итог</th>\n",
       "      <th>Место</th>\n",
       "      <th>Unnamed: 15</th>\n",
       "    </tr>\n",
       "  </thead>\n",
       "  <tbody>\n",
       "    <tr>\n",
       "      <th>0</th>\n",
       "      <td>Ученик 1</td>\n",
       "      <td>Школа 146</td>\n",
       "      <td>10</td>\n",
       "      <td>100.0</td>\n",
       "      <td>100.0</td>\n",
       "      <td>100.0</td>\n",
       "      <td>100.0</td>\n",
       "      <td>400</td>\n",
       "      <td>100.0</td>\n",
       "      <td>100.0</td>\n",
       "      <td>100.0</td>\n",
       "      <td>28.0</td>\n",
       "      <td>328</td>\n",
       "      <td>728</td>\n",
       "      <td>1</td>\n",
       "      <td>Победитель,</td>\n",
       "    </tr>\n",
       "    <tr>\n",
       "      <th>1</th>\n",
       "      <td>Ученик 2</td>\n",
       "      <td>Школа 9</td>\n",
       "      <td>11</td>\n",
       "      <td>100.0</td>\n",
       "      <td>100.0</td>\n",
       "      <td>100.0</td>\n",
       "      <td>33.0</td>\n",
       "      <td>333</td>\n",
       "      <td>100.0</td>\n",
       "      <td>100.0</td>\n",
       "      <td>100.0</td>\n",
       "      <td>44.0</td>\n",
       "      <td>344</td>\n",
       "      <td>677</td>\n",
       "      <td>2</td>\n",
       "      <td>Победитель,</td>\n",
       "    </tr>\n",
       "    <tr>\n",
       "      <th>2</th>\n",
       "      <td>Ученик 3</td>\n",
       "      <td>Школа 9</td>\n",
       "      <td>11</td>\n",
       "      <td>100.0</td>\n",
       "      <td>100.0</td>\n",
       "      <td>66.0</td>\n",
       "      <td>63.0</td>\n",
       "      <td>329</td>\n",
       "      <td>100.0</td>\n",
       "      <td>100.0</td>\n",
       "      <td>100.0</td>\n",
       "      <td>44.0</td>\n",
       "      <td>344</td>\n",
       "      <td>673</td>\n",
       "      <td>3</td>\n",
       "      <td>Победитель,</td>\n",
       "    </tr>\n",
       "    <tr>\n",
       "      <th>3</th>\n",
       "      <td>Ученик 4</td>\n",
       "      <td>Школа 146</td>\n",
       "      <td>11</td>\n",
       "      <td>100.0</td>\n",
       "      <td>100.0</td>\n",
       "      <td>100.0</td>\n",
       "      <td>63.0</td>\n",
       "      <td>363</td>\n",
       "      <td>100.0</td>\n",
       "      <td>68.0</td>\n",
       "      <td>100.0</td>\n",
       "      <td>28.0</td>\n",
       "      <td>296</td>\n",
       "      <td>659</td>\n",
       "      <td>4</td>\n",
       "      <td>Призер,</td>\n",
       "    </tr>\n",
       "    <tr>\n",
       "      <th>4</th>\n",
       "      <td>Ученик 5</td>\n",
       "      <td>Школа 9</td>\n",
       "      <td>11</td>\n",
       "      <td>100.0</td>\n",
       "      <td>100.0</td>\n",
       "      <td>66.0</td>\n",
       "      <td>63.0</td>\n",
       "      <td>329</td>\n",
       "      <td>100.0</td>\n",
       "      <td>100.0</td>\n",
       "      <td>49.0</td>\n",
       "      <td>28.0</td>\n",
       "      <td>277</td>\n",
       "      <td>606</td>\n",
       "      <td>5</td>\n",
       "      <td>Призер,</td>\n",
       "    </tr>\n",
       "    <tr>\n",
       "      <th>...</th>\n",
       "      <td>...</td>\n",
       "      <td>...</td>\n",
       "      <td>...</td>\n",
       "      <td>...</td>\n",
       "      <td>...</td>\n",
       "      <td>...</td>\n",
       "      <td>...</td>\n",
       "      <td>...</td>\n",
       "      <td>...</td>\n",
       "      <td>...</td>\n",
       "      <td>...</td>\n",
       "      <td>...</td>\n",
       "      <td>...</td>\n",
       "      <td>...</td>\n",
       "      <td>...</td>\n",
       "      <td>...</td>\n",
       "    </tr>\n",
       "    <tr>\n",
       "      <th>72</th>\n",
       "      <td>Ученик 73</td>\n",
       "      <td>Школа 146</td>\n",
       "      <td>11</td>\n",
       "      <td>NaN</td>\n",
       "      <td>0.0</td>\n",
       "      <td>0.0</td>\n",
       "      <td>NaN</td>\n",
       "      <td>0</td>\n",
       "      <td>100.0</td>\n",
       "      <td>15.0</td>\n",
       "      <td>23.0</td>\n",
       "      <td>14.0</td>\n",
       "      <td>152</td>\n",
       "      <td>152</td>\n",
       "      <td>73</td>\n",
       "      <td>,</td>\n",
       "    </tr>\n",
       "    <tr>\n",
       "      <th>73</th>\n",
       "      <td>Ученик 74</td>\n",
       "      <td>Школа 9</td>\n",
       "      <td>9</td>\n",
       "      <td>48.0</td>\n",
       "      <td>26.0</td>\n",
       "      <td>NaN</td>\n",
       "      <td>NaN</td>\n",
       "      <td>74</td>\n",
       "      <td>25.0</td>\n",
       "      <td>0.0</td>\n",
       "      <td>21.0</td>\n",
       "      <td>NaN</td>\n",
       "      <td>46</td>\n",
       "      <td>120</td>\n",
       "      <td>74</td>\n",
       "      <td>,</td>\n",
       "    </tr>\n",
       "    <tr>\n",
       "      <th>74</th>\n",
       "      <td>Ученик 75</td>\n",
       "      <td>Школа 146</td>\n",
       "      <td>11</td>\n",
       "      <td>100.0</td>\n",
       "      <td>3.0</td>\n",
       "      <td>NaN</td>\n",
       "      <td>NaN</td>\n",
       "      <td>103</td>\n",
       "      <td>NaN</td>\n",
       "      <td>NaN</td>\n",
       "      <td>NaN</td>\n",
       "      <td>NaN</td>\n",
       "      <td>0</td>\n",
       "      <td>103</td>\n",
       "      <td>75</td>\n",
       "      <td>,</td>\n",
       "    </tr>\n",
       "    <tr>\n",
       "      <th>75</th>\n",
       "      <td>Ученик 76</td>\n",
       "      <td>Школа 146</td>\n",
       "      <td>11</td>\n",
       "      <td>48.0</td>\n",
       "      <td>3.0</td>\n",
       "      <td>NaN</td>\n",
       "      <td>NaN</td>\n",
       "      <td>51</td>\n",
       "      <td>NaN</td>\n",
       "      <td>NaN</td>\n",
       "      <td>NaN</td>\n",
       "      <td>NaN</td>\n",
       "      <td>0</td>\n",
       "      <td>51</td>\n",
       "      <td>76</td>\n",
       "      <td>,</td>\n",
       "    </tr>\n",
       "    <tr>\n",
       "      <th>76</th>\n",
       "      <td>Ученик 77</td>\n",
       "      <td>Березники</td>\n",
       "      <td>11</td>\n",
       "      <td>NaN</td>\n",
       "      <td>NaN</td>\n",
       "      <td>NaN</td>\n",
       "      <td>NaN</td>\n",
       "      <td>0</td>\n",
       "      <td>NaN</td>\n",
       "      <td>NaN</td>\n",
       "      <td>NaN</td>\n",
       "      <td>NaN</td>\n",
       "      <td>0</td>\n",
       "      <td>0</td>\n",
       "      <td>77</td>\n",
       "      <td>,</td>\n",
       "    </tr>\n",
       "  </tbody>\n",
       "</table>\n",
       "<p>77 rows × 16 columns</p>\n",
       "</div>"
      ],
      "text/plain": [
       "   Фамилия,имя      Школа  Класс      A      B      C      D  Итого   I тур  \\\n",
       "0     Ученик 1  Школа 146     10  100.0  100.0  100.0  100.0            400   \n",
       "1     Ученик 2    Школа 9     11  100.0  100.0  100.0   33.0            333   \n",
       "2     Ученик 3    Школа 9     11  100.0  100.0   66.0   63.0            329   \n",
       "3     Ученик 4  Школа 146     11  100.0  100.0  100.0   63.0            363   \n",
       "4     Ученик 5    Школа 9     11  100.0  100.0   66.0   63.0            329   \n",
       "..         ...        ...    ...    ...    ...    ...    ...            ...   \n",
       "72   Ученик 73  Школа 146     11    NaN    0.0    0.0    NaN              0   \n",
       "73   Ученик 74    Школа 9      9   48.0   26.0    NaN    NaN             74   \n",
       "74   Ученик 75  Школа 146     11  100.0    3.0    NaN    NaN            103   \n",
       "75   Ученик 76  Школа 146     11   48.0    3.0    NaN    NaN             51   \n",
       "76   Ученик 77  Березники     11    NaN    NaN    NaN    NaN              0   \n",
       "\n",
       "        E      F      G     H  Итого   II тур  Общий итог  Место  Unnamed: 15  \n",
       "0   100.0  100.0  100.0  28.0             328         728      1  Победитель,  \n",
       "1   100.0  100.0  100.0  44.0             344         677      2  Победитель,  \n",
       "2   100.0  100.0  100.0  44.0             344         673      3  Победитель,  \n",
       "3   100.0   68.0  100.0  28.0             296         659      4      Призер,  \n",
       "4   100.0  100.0   49.0  28.0             277         606      5      Призер,  \n",
       "..    ...    ...    ...   ...             ...         ...    ...          ...  \n",
       "72  100.0   15.0   23.0  14.0             152         152     73            ,  \n",
       "73   25.0    0.0   21.0   NaN              46         120     74            ,  \n",
       "74    NaN    NaN    NaN   NaN               0         103     75            ,  \n",
       "75    NaN    NaN    NaN   NaN               0          51     76            ,  \n",
       "76    NaN    NaN    NaN   NaN               0           0     77            ,  \n",
       "\n",
       "[77 rows x 16 columns]"
      ]
     },
     "execution_count": 168,
     "metadata": {},
     "output_type": "execute_result"
    }
   ],
   "source": [
    "olympiad_results = pd.read_csv('17 Результаты олимпиады.csv', sep=';')\n",
    "olympiad_results"
   ]
  },
  {
   "cell_type": "markdown",
   "metadata": {
    "id": "Vr0KZtftLeh7",
    "pycharm": {
     "name": "#%% md\n"
    }
   },
   "source": [
    "4) Определите задачу, которая была решена наибольшим число участников на полный балл (100 баллов)"
   ]
  },
  {
   "cell_type": "code",
   "execution_count": 169,
   "metadata": {
    "id": "XebMPoxpLeh8",
    "pycharm": {
     "name": "#%%\n"
    }
   },
   "outputs": [
    {
     "data": {
      "text/plain": [
       "A    67\n",
       "E    64\n",
       "B    20\n",
       "F     7\n",
       "C     4\n",
       "G     4\n",
       "D     1\n",
       "H     0\n",
       "dtype: int64"
      ]
     },
     "execution_count": 169,
     "metadata": {},
     "output_type": "execute_result"
    }
   ],
   "source": [
    "tasks = olympiad_results[['A','B','C','D','E','F','G','H']]\n",
    "tasks[tasks == 100].count().sort_values(ascending=False)"
   ]
  },
  {
   "cell_type": "markdown",
   "metadata": {
    "id": "NikIrz1ELeh9",
    "pycharm": {
     "name": "#%% md\n"
    }
   },
   "source": [
    "5) Для каждой задачи посчитайте средний балл среди всех, кто решал эту задачу. И определите наиболее сложную задачу - ту, для которой средний балл оказался наименьшим."
   ]
  },
  {
   "cell_type": "code",
   "execution_count": 170,
   "metadata": {
    "colab": {
     "base_uri": "https://localhost:8080/"
    },
    "executionInfo": {
     "elapsed": 284,
     "status": "ok",
     "timestamp": 1636335627193,
     "user": {
      "displayName": "Ольга Перескокова",
      "photoUrl": "https://lh3.googleusercontent.com/a/default-user=s64",
      "userId": "10861726294687405456"
     },
     "user_tz": -300
    },
    "id": "nK8VGOAFLeh-",
    "outputId": "f9d85a76-3869-4808-8290-84714d41d758",
    "pycharm": {
     "name": "#%%\n"
    }
   },
   "outputs": [
    {
     "data": {
      "text/plain": [
       "H    16.363636\n",
       "D    21.777778\n",
       "F    27.344262\n",
       "G    32.171875\n",
       "C    33.609756\n",
       "B    49.013158\n",
       "A    94.453333\n",
       "E    95.205479\n",
       "dtype: float64"
      ]
     },
     "execution_count": 170,
     "metadata": {},
     "output_type": "execute_result"
    }
   ],
   "source": [
    "tasks.mean().sort_values()"
   ]
  },
  {
   "cell_type": "markdown",
   "metadata": {
    "id": "LDQCGAVnLeh-",
    "pycharm": {
     "name": "#%% md\n"
    }
   },
   "source": [
    "6) Постройте новый набор данных, в котором заполните пропущенные значения нулями и сохраните его в формате MS Excel."
   ]
  },
  {
   "cell_type": "code",
   "execution_count": 220,
   "metadata": {
    "executionInfo": {
     "elapsed": 279,
     "status": "ok",
     "timestamp": 1636335769693,
     "user": {
      "displayName": "Ольга Перескокова",
      "photoUrl": "https://lh3.googleusercontent.com/a/default-user=s64",
      "userId": "10861726294687405456"
     },
     "user_tz": -300
    },
    "id": "paxx1lMhLeh_",
    "pycharm": {
     "name": "#%%\n"
    }
   },
   "outputs": [],
   "source": [
    "data = pd.read_csv('17 Результаты олимпиады.csv', delimiter=';') #encoding='1251')\n",
    "# ваш код\n",
    "data.fillna(0, inplace=True)\n",
    "data.rename(columns={'Unnamed: 15':'Статус'}, inplace=True) # переименовал столбец\n",
    "data['Статус'] = data['Статус'].apply(lambda x: x[:str.find(x, ',')]) # убрал лишние запятые\n",
    "data.loc[data['Школа'] == 'Гимназия 2 ', 'Школа'] = 'Гимназия 2' # исправлена опечатка в исходных данных\n",
    "# data.to_excel('out.xlsx')"
   ]
  },
  {
   "cell_type": "markdown",
   "metadata": {
    "id": "KEk7gb5iLeiA",
    "pycharm": {
     "name": "#%% md\n"
    }
   },
   "source": [
    "7) В исходный набор данных добавьте новый столбец, в котором для каждого участника олимпиады укажите сколько задач он решил на ненулевой балл.\n",
    "Посчитайте корреляцию Пирсона между суммой баллов и количеством задач, решенных на ненулевой балл."
   ]
  },
  {
   "cell_type": "code",
   "execution_count": 221,
   "metadata": {
    "executionInfo": {
     "elapsed": 280,
     "status": "ok",
     "timestamp": 1636335777971,
     "user": {
      "displayName": "Ольга Перескокова",
      "photoUrl": "https://lh3.googleusercontent.com/a/default-user=s64",
      "userId": "10861726294687405456"
     },
     "user_tz": -300
    },
    "id": "6TWtkYQELeiA",
    "pycharm": {
     "name": "#%%\n"
    }
   },
   "outputs": [
    {
     "data": {
      "text/html": [
       "<div>\n",
       "<style scoped>\n",
       "    .dataframe tbody tr th:only-of-type {\n",
       "        vertical-align: middle;\n",
       "    }\n",
       "\n",
       "    .dataframe tbody tr th {\n",
       "        vertical-align: top;\n",
       "    }\n",
       "\n",
       "    .dataframe thead th {\n",
       "        text-align: right;\n",
       "    }\n",
       "</style>\n",
       "<table border=\"1\" class=\"dataframe\">\n",
       "  <thead>\n",
       "    <tr style=\"text-align: right;\">\n",
       "      <th></th>\n",
       "      <th>Общий итог</th>\n",
       "      <th>solved_tasks</th>\n",
       "    </tr>\n",
       "  </thead>\n",
       "  <tbody>\n",
       "    <tr>\n",
       "      <th>Общий итог</th>\n",
       "      <td>1.000000</td>\n",
       "      <td>0.830169</td>\n",
       "    </tr>\n",
       "    <tr>\n",
       "      <th>solved_tasks</th>\n",
       "      <td>0.830169</td>\n",
       "      <td>1.000000</td>\n",
       "    </tr>\n",
       "  </tbody>\n",
       "</table>\n",
       "</div>"
      ],
      "text/plain": [
       "              Общий итог  solved_tasks\n",
       "Общий итог      1.000000      0.830169\n",
       "solved_tasks    0.830169      1.000000"
      ]
     },
     "execution_count": 221,
     "metadata": {},
     "output_type": "execute_result"
    }
   ],
   "source": [
    "tasks = data[['A','B','C','D','E','F','G','H']]\n",
    "data['solved_tasks'] = (tasks != 0).sum(axis=1)\n",
    "data[['Общий итог', 'solved_tasks']].corr(method='pearson')\n",
    "# data.columns"
   ]
  },
  {
   "cell_type": "markdown",
   "metadata": {
    "id": "xWjsDlL3LeiB",
    "pycharm": {
     "name": "#%% md\n"
    }
   },
   "source": [
    "8) Сформируйте новую таблицу из всех записей исходной таблицы, для каждой школы, участвовавшей в олимпиаде, отразите, сколько участников, сколько победителей и сколько призеров было от данной школы, каков максимальный, минимальный и средний балл участников олимпиады от данной школы. Отсортируйте полученную таблицу данных о школах по числу участников."
   ]
  },
  {
   "cell_type": "code",
   "execution_count": 274,
   "metadata": {
    "colab": {
     "base_uri": "https://localhost:8080/",
     "height": 508
    },
    "executionInfo": {
     "elapsed": 315,
     "status": "ok",
     "timestamp": 1636335799737,
     "user": {
      "displayName": "Ольга Перескокова",
      "photoUrl": "https://lh3.googleusercontent.com/a/default-user=s64",
      "userId": "10861726294687405456"
     },
     "user_tz": -300
    },
    "id": "dnPHwtbtLeiB",
    "outputId": "ae75f06e-afa9-4717-ee40-d852e7ba938f",
    "pycharm": {
     "name": "#%%\n"
    }
   },
   "outputs": [],
   "source": [
    "data['Школа'].unique()\n",
    "participants = data.groupby(\"Школа\")['Фамилия,имя'].count()\n",
    "winners = data[data['Статус']=='Победитель'].groupby('Школа')['Статус'].count()\n",
    "prize_winners = data[data['Статус']=='Призер'].groupby('Школа')['Статус'].count()\n",
    "max_score = data.groupby(['Школа', 'Фамилия,имя'])['Общий итог'].max().unstack().max(axis=1)\n",
    "min_score = data.groupby(['Школа', 'Фамилия,имя'])['Общий итог'].min().unstack().min(axis=1)\n",
    "mean_score = data.groupby(['Школа', 'Фамилия,имя'])['Общий итог'].mean().unstack().mean(axis=1)\n",
    "\n",
    "schools = pd.concat([participants, winners, prize_winners, max_score, min_score, mean_score], axis=1)\n",
    "schools.columns = ['Количество участников','Количество победителей','Количество призеров','Минимальный балл','Максимальный балл','Средний балл']\n",
    "schools.fillna(0, inplace=True)\n",
    "schools = schools.astype({'Количество победителей': 'int','Количество призеров':'int'})\n",
    "schools.sort_values(by='Количество участников', ascending=False, inplace=True)"
   ]
  },
  {
   "cell_type": "markdown",
   "metadata": {
    "id": "cXv6y9c2LeiC",
    "pycharm": {
     "name": "#%% md\n"
    }
   },
   "source": [
    "9) Постройте круговую диаграмму, на которой отразите только те школы, которые подготовили победителей и призеров олимпиады. Обязательно должна быть легенда."
   ]
  },
  {
   "cell_type": "code",
   "execution_count": 276,
   "metadata": {
    "colab": {
     "base_uri": "https://localhost:8080/",
     "height": 281
    },
    "executionInfo": {
     "elapsed": 444,
     "status": "ok",
     "timestamp": 1636335866762,
     "user": {
      "displayName": "Ольга Перескокова",
      "photoUrl": "https://lh3.googleusercontent.com/a/default-user=s64",
      "userId": "10861726294687405456"
     },
     "user_tz": -300
    },
    "id": "95TA-xLXLeiC",
    "outputId": "6f3fe82d-c9cf-4c02-a3da-079e38299acc",
    "pycharm": {
     "name": "#%%\n"
    }
   },
   "outputs": [
    {
     "data": {
      "text/plain": [
       "<matplotlib.legend.Legend at 0x7f72eeffc8e0>"
      ]
     },
     "execution_count": 276,
     "metadata": {},
     "output_type": "execute_result"
    },
    {
     "data": {
      "image/png": "[encoded data removed]",
      "text/plain": [
       "<Figure size 640x480 with 1 Axes>"
      ]
     },
     "metadata": {},
     "output_type": "display_data"
    }
   ],
   "source": [
    "winners_schools = schools[(schools['Количество победителей'] > 0) & (schools['Количество призеров'] > 0)]\n",
    "(winners_schools['Количество победителей']+winners_schools['Количество призеров']).plot(kind='pie',autopct='%1.2f%%')\n",
    "plt.legend(loc='upper right')"
   ]
  },
  {
   "cell_type": "markdown",
   "metadata": {
    "id": "nJxhBaiPLeiC",
    "pycharm": {
     "name": "#%% md\n"
    }
   },
   "source": [
    "10) Постройте график изменения количества задач, решенных на ненулевой балл. По оси X указывайте номер учеников, учеников при этом располагайте в порядке возрастания их суммарного балла за олимпиаду. На графике должны подписаны оси и подписан сам график."
   ]
  },
  {
   "cell_type": "code",
   "execution_count": 330,
   "metadata": {
    "executionInfo": {
     "elapsed": 324,
     "status": "ok",
     "timestamp": 1636335906066,
     "user": {
      "displayName": "Ольга Перескокова",
      "photoUrl": "https://lh3.googleusercontent.com/a/default-user=s64",
      "userId": "10861726294687405456"
     },
     "user_tz": -300
    },
    "id": "IzcNGmfxLeiD",
    "pycharm": {
     "name": "#%%\n"
    }
   },
   "outputs": [
    {
     "data": {
      "text/plain": [
       "<AxesSubplot: title={'center': 'Количество задач решенных на ненулевой балл каждым учеником'}, xlabel='Номер ученика', ylabel='Количества задач'>"
      ]
     },
     "execution_count": 330,
     "metadata": {},
     "output_type": "execute_result"
    },
    {
     "data": {
      "image/png": "[encoded data removed]",
      "text/plain": [
       "<Figure size 1700x700 with 1 Axes>"
      ]
     },
     "metadata": {},
     "output_type": "display_data"
    }
   ],
   "source": [
    "tasks = data[['A','B','C','D','E','F','G','H']]\n",
    "data['Номер ученика'] = data['Фамилия,имя'].apply(lambda x: str.split(x)[1])\n",
    "data.sort_values(by='Общий итог').plot(kind='bar', x='Номер ученика', y='solved_tasks', figsize=(17, 7), ylabel='Количества задач', title='Количество задач решенных на ненулевой балл каждым учеником', legend=False)"
   ]
  },
  {
   "cell_type": "code",
   "execution_count": null,
   "metadata": {},
   "outputs": [],
   "source": []
  }
 ],
 "metadata": {
  "colab": {
   "name": "Власов Дмитрий.ipynb",
   "provenance": []
  },
  "kernelspec": {
   "display_name": "Python 3.9.2 64-bit",
   "language": "python",
   "name": "python3"
  },
  "language_info": {
   "codemirror_mode": {
    "name": "ipython",
    "version": 3
   },
   "file_extension": ".py",
   "mimetype": "text/x-python",
   "name": "python",
   "nbconvert_exporter": "python",
   "pygments_lexer": "ipython3",
   "version": "3.9.2"
  },
  "vscode": {
   "interpreter": {
    "hash": "916dbcbb3f70747c44a77c7bcd40155683ae19c65e1c03b4aa3499c5328201f1"
   }
  }
 },
 "nbformat": 4,
 "nbformat_minor": 1
}
