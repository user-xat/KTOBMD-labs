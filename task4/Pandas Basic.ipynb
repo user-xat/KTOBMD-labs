{
 "cells": [
  {
   "cell_type": "markdown",
   "metadata": {},
   "source": [
    "# Основы Pandas\n",
    "---"
   ]
  },
  {
   "cell_type": "markdown",
   "metadata": {},
   "source": [
    "## Основные объекты и понятия"
   ]
  },
  {
   "cell_type": "markdown",
   "metadata": {},
   "source": [
    "Основу **Pandas** состовляют такие структуры данных, как **Series и DataFrame**.\n",
    "\n",
    "**Series** - это **одномерный массив**, имеющий специальные **метки (индексы)** и способные хранить данные **любого** типа.\n",
    "\n",
    "**DataFrame** - это **двумерный массив (матрица, таблица)**, имеющий **специальные метки (индексы)**, который хранит в своих столбцах данные **разных типов**."
   ]
  },
  {
   "cell_type": "markdown",
   "metadata": {},
   "source": [
    "![DataFrame object](http://pytolearn.csd.auth.gr/b4-pandas/40/dataframe.png)"
   ]
  },
  {
   "cell_type": "markdown",
   "metadata": {},
   "source": [
    "![Series](https://www.w3resource.com/w3r_images/pandas-series-abs-image-1.svg)"
   ]
  },
  {
   "cell_type": "code",
   "execution_count": 2,
   "metadata": {},
   "outputs": [],
   "source": [
    "import numpy as np\n",
    "import pandas as pd"
   ]
  },
  {
   "cell_type": "markdown",
   "metadata": {},
   "source": [
    "## Series"
   ]
  },
  {
   "cell_type": "code",
   "execution_count": 3,
   "metadata": {},
   "outputs": [
    {
     "data": {
      "text/plain": [
       "0        Pandas\n",
       "1    Matplotlib\n",
       "2         Numpy\n",
       "dtype: object"
      ]
     },
     "execution_count": 3,
     "metadata": {},
     "output_type": "execute_result"
    }
   ],
   "source": [
    "data = [\"Pandas\", \"Matplotlib\", \"Numpy\"]\n",
    "s = pd.Series(data)\n",
    "s"
   ]
  },
  {
   "cell_type": "code",
   "execution_count": 4,
   "metadata": {},
   "outputs": [
    {
     "data": {
      "text/plain": [
       "0    2.0\n",
       "1    NaN\n",
       "2    7.0\n",
       "3   -3.0\n",
       "4    0.0\n",
       "dtype: float64"
      ]
     },
     "execution_count": 4,
     "metadata": {},
     "output_type": "execute_result"
    }
   ],
   "source": [
    "s = pd.Series([2, np.nan, 7, -3, 0])\n",
    "s"
   ]
  },
  {
   "cell_type": "code",
   "execution_count": 5,
   "metadata": {},
   "outputs": [
    {
     "data": {
      "text/plain": [
       "a    3\n",
       "b   -5\n",
       "c    7\n",
       "d    4\n",
       "dtype: int64"
      ]
     },
     "execution_count": 5,
     "metadata": {},
     "output_type": "execute_result"
    }
   ],
   "source": [
    "s = pd.Series([3, -5, 7, 4], index=['a', 'b', 'c', 'd'])\n",
    "s"
   ]
  },
  {
   "cell_type": "code",
   "execution_count": 6,
   "metadata": {},
   "outputs": [
    {
     "data": {
      "text/plain": [
       "p   -1.051222\n",
       "q   -0.086406\n",
       "r   -0.533995\n",
       "t    1.327786\n",
       "n    1.383330\n",
       "v    0.055562\n",
       "dtype: float64"
      ]
     },
     "execution_count": 6,
     "metadata": {},
     "output_type": "execute_result"
    }
   ],
   "source": [
    "s = pd.Series(np.random.randn(6), index=['p', 'q', 'r', 't', 'n', 'v'])\n",
    "s"
   ]
  },
  {
   "cell_type": "code",
   "execution_count": 7,
   "metadata": {},
   "outputs": [
    {
     "data": {
      "text/plain": [
       "Index(['p', 'q', 'r', 't', 'n', 'v'], dtype='object')"
      ]
     },
     "execution_count": 7,
     "metadata": {},
     "output_type": "execute_result"
    }
   ],
   "source": [
    "s.index"
   ]
  },
  {
   "cell_type": "code",
   "execution_count": 8,
   "metadata": {},
   "outputs": [
    {
     "data": {
      "text/plain": [
       "q    1\n",
       "p    2\n",
       "r    3\n",
       "dtype: int64"
      ]
     },
     "execution_count": 8,
     "metadata": {},
     "output_type": "execute_result"
    }
   ],
   "source": [
    "n = {'q':1, 'p':2, 'r':3}\n",
    "pd.Series(n)"
   ]
  },
  {
   "cell_type": "code",
   "execution_count": 11,
   "metadata": {},
   "outputs": [
    {
     "name": "stdout",
     "output_type": "stream",
     "text": [
      "float64\n",
      "(6,)\n",
      "1\n",
      "6\n"
     ]
    }
   ],
   "source": [
    "print(s.dtype)\n",
    "print(s.shape)\n",
    "print(s.ndim)\n",
    "print(s.size)"
   ]
  },
  {
   "cell_type": "markdown",
   "metadata": {},
   "source": [
    "### Индексы и выборка"
   ]
  },
  {
   "cell_type": "code",
   "execution_count": 13,
   "metadata": {},
   "outputs": [
    {
     "name": "stdout",
     "output_type": "stream",
     "text": [
      "p   -1.051222\n",
      "q   -0.086406\n",
      "r   -0.533995\n",
      "t    1.327786\n",
      "n    1.383330\n",
      "v    0.055562\n",
      "dtype: float64 \n",
      "\n",
      "-1.051222096735543 \n",
      "\n",
      "q   -0.086406\n",
      "r   -0.533995\n",
      "t    1.327786\n",
      "n    1.383330\n",
      "dtype: float64 \n",
      "\n",
      "t    1.327786\n",
      "n    1.383330\n",
      "v    0.055562\n",
      "dtype: float64 \n",
      "\n",
      "v    0.055562\n",
      "dtype: float64 \n",
      "\n",
      "1.3277855559167213 \n",
      "\n",
      "r   -0.533995\n",
      "t    1.327786\n",
      "dtype: float64 \n",
      "\n"
     ]
    }
   ],
   "source": [
    "print(s, '\\n')\n",
    "print(s[0], '\\n')\n",
    "print(s[1:5], '\\n')\n",
    "print(s[s>0], '\\n')\n",
    "print(s[(s>0)&(s<1)], '\\n')\n",
    "print(s['t'], '\\n')\n",
    "print(s[['r','t']], '\\n')"
   ]
  },
  {
   "cell_type": "code",
   "execution_count": 14,
   "metadata": {},
   "outputs": [
    {
     "data": {
      "text/plain": [
       "n    1.383330\n",
       "r   -0.533995\n",
       "dtype: float64"
      ]
     },
     "execution_count": 14,
     "metadata": {},
     "output_type": "execute_result"
    }
   ],
   "source": [
    "s[[4,2]]"
   ]
  },
  {
   "cell_type": "code",
   "execution_count": 15,
   "metadata": {},
   "outputs": [
    {
     "name": "stdout",
     "output_type": "stream",
     "text": [
      "p   -0.868031\n",
      "q   -0.086298\n",
      "r   -0.508976\n",
      "t    0.970618\n",
      "n    0.982480\n",
      "v    0.055534\n",
      "dtype: float64 \n",
      "\n",
      "p    1.051222\n",
      "q    0.086406\n",
      "r    0.533995\n",
      "t    1.327786\n",
      "n    1.383330\n",
      "v    0.055562\n",
      "dtype: float64 \n",
      "\n",
      "p   -1.748262\n",
      "q   -0.086622\n",
      "r   -0.591296\n",
      "t    4.033720\n",
      "n    5.271643\n",
      "v    0.055619\n",
      "dtype: float64 \n",
      "\n"
     ]
    }
   ],
   "source": [
    "print(np.sin(s), '\\n')\n",
    "print(np.abs(s), '\\n')\n",
    "print(np.tan(s), '\\n')"
   ]
  },
  {
   "cell_type": "markdown",
   "metadata": {},
   "source": [
    "### Добавление и удаление"
   ]
  },
  {
   "cell_type": "code",
   "execution_count": 16,
   "metadata": {},
   "outputs": [
    {
     "data": {
      "text/plain": [
       "p             -1.051222\n",
       "q             -0.086406\n",
       "r             -0.533995\n",
       "t              1.327786\n",
       "n              1.383330\n",
       "v              0.055562\n",
       "pylounge    1000.000000\n",
       "dtype: float64"
      ]
     },
     "execution_count": 16,
     "metadata": {},
     "output_type": "execute_result"
    }
   ],
   "source": [
    "s['pylounge'] = 1000\n",
    "s"
   ]
  },
  {
   "cell_type": "code",
   "execution_count": 17,
   "metadata": {},
   "outputs": [
    {
     "data": {
      "text/plain": [
       "q   -0.086406\n",
       "r   -0.533995\n",
       "t    1.327786\n",
       "n    1.383330\n",
       "v    0.055562\n",
       "dtype: float64"
      ]
     },
     "execution_count": 17,
     "metadata": {},
     "output_type": "execute_result"
    }
   ],
   "source": [
    "s.drop(labels=['p', 'pylounge']) # labels, index, axis и т.д."
   ]
  },
  {
   "cell_type": "code",
   "execution_count": 18,
   "metadata": {},
   "outputs": [
    {
     "name": "stdout",
     "output_type": "stream",
     "text": [
      "1001.0950545138269 \n",
      "\n",
      "143.01357921626098 \n",
      "\n",
      "1000.0 \n",
      "\n"
     ]
    }
   ],
   "source": [
    "print(s.sum(), '\\n')\n",
    "print(s.mean(), '\\n')\n",
    "print(s.max(), '\\n')"
   ]
  },
  {
   "cell_type": "markdown",
   "metadata": {},
   "source": [
    "### Операции"
   ]
  },
  {
   "cell_type": "code",
   "execution_count": 19,
   "metadata": {},
   "outputs": [
    {
     "data": {
      "text/plain": [
       "p             -2.102444\n",
       "q             -0.172812\n",
       "r             -1.067990\n",
       "t              2.655571\n",
       "n              2.766659\n",
       "v              0.111124\n",
       "pylounge    2000.000000\n",
       "dtype: float64"
      ]
     },
     "execution_count": 19,
     "metadata": {},
     "output_type": "execute_result"
    }
   ],
   "source": [
    "s + s"
   ]
  },
  {
   "cell_type": "code",
   "execution_count": 20,
   "metadata": {},
   "outputs": [
    {
     "data": {
      "text/plain": [
       "p                 1.105068\n",
       "q                 0.007466\n",
       "r                 0.285150\n",
       "t                 1.763014\n",
       "n                 1.913601\n",
       "v                 0.003087\n",
       "pylounge    1000000.000000\n",
       "dtype: float64"
      ]
     },
     "execution_count": 20,
     "metadata": {},
     "output_type": "execute_result"
    }
   ],
   "source": [
    "s * s"
   ]
  },
  {
   "cell_type": "code",
   "execution_count": 21,
   "metadata": {},
   "outputs": [
    {
     "data": {
      "text/plain": [
       "p                 1.105068\n",
       "q                 0.007466\n",
       "r                 0.285150\n",
       "t                 1.763014\n",
       "n                 1.913601\n",
       "v                 0.003087\n",
       "pylounge    1000000.000000\n",
       "dtype: float64"
      ]
     },
     "execution_count": 21,
     "metadata": {},
     "output_type": "execute_result"
    }
   ],
   "source": [
    "s ** 2"
   ]
  },
  {
   "cell_type": "code",
   "execution_count": 22,
   "metadata": {},
   "outputs": [
    {
     "data": {
      "text/plain": [
       "p             -1\n",
       "q              0\n",
       "r              0\n",
       "t              1\n",
       "n              1\n",
       "v              0\n",
       "pylounge    1000\n",
       "dtype: int16"
      ]
     },
     "execution_count": 22,
     "metadata": {},
     "output_type": "execute_result"
    }
   ],
   "source": [
    "s.astype(np.int16)"
   ]
  },
  {
   "cell_type": "code",
   "execution_count": null,
   "metadata": {},
   "outputs": [],
   "source": []
  }
 ],
 "metadata": {
  "kernelspec": {
   "display_name": "Python 3.9.2 64-bit",
   "language": "python",
   "name": "python3"
  },
  "language_info": {
   "codemirror_mode": {
    "name": "ipython",
    "version": 3
   },
   "file_extension": ".py",
   "mimetype": "text/x-python",
   "name": "python",
   "nbconvert_exporter": "python",
   "pygments_lexer": "ipython3",
   "version": "3.9.2"
  },
  "orig_nbformat": 4,
  "vscode": {
   "interpreter": {
    "hash": "916dbcbb3f70747c44a77c7bcd40155683ae19c65e1c03b4aa3499c5328201f1"
   }
  }
 },
 "nbformat": 4,
 "nbformat_minor": 2
}
