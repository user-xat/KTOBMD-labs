{
 "cells": [
  {
   "cell_type": "markdown",
   "id": "22c97fbe",
   "metadata": {},
   "source": [
    "# Header1\n",
    "## Header2\n",
    "### Header 3\n",
    "*dfjdfj*\n",
    "**djfjdkfdj**\n",
    "~~dfjdfkjdkfjd~~\n",
    "<b>Bold</b>\n",
    "<i>italic</i>\n",
    "* listelem\n",
    "* listelem\n",
    "* listelem\n",
    "\n",
    "1. numlist\n",
    "2. numlist\n",
    "\n",
    "[url text](https://ya.ru)\n",
    "![describe](link_to_image)\n",
    "\n",
    "`import numpy\n",
    "x = x + 1\n",
    "`\n",
    "LaTeX формулы\n",
    "$$c=\\sqrt{4}$$ \n",
    "$$y=x^2$$\n",
    "$$y=x_{1}^2+x_{2}^2$$"
   ]
  },
  {
   "cell_type": "code",
   "execution_count": 20,
   "id": "0be79472",
   "metadata": {},
   "outputs": [
    {
     "data": {
      "text/plain": [
       "'subscribeonchannel'"
      ]
     },
     "execution_count": 20,
     "metadata": {},
     "output_type": "execute_result"
    }
   ],
   "source": [
    "n = ['subscribe', 'on', 'channel']\n",
    "''.join(n)"
   ]
  },
  {
   "cell_type": "code",
   "execution_count": 21,
   "id": "db500859",
   "metadata": {
    "collapsed": true
   },
   "outputs": [
    {
     "ename": "ModuleNotFoundError",
     "evalue": "No module named 'numpy'",
     "output_type": "error",
     "traceback": [
      "\u001b[0;31m---------------------------------------------------------------------------\u001b[0m",
      "\u001b[0;31mModuleNotFoundError\u001b[0m                       Traceback (most recent call last)",
      "Cell \u001b[0;32mIn [21], line 1\u001b[0m\n\u001b[0;32m----> 1\u001b[0m \u001b[38;5;28;01mimport\u001b[39;00m \u001b[38;5;21;01mnumpy\u001b[39;00m\n",
      "\u001b[0;31mModuleNotFoundError\u001b[0m: No module named 'numpy'"
     ]
    }
   ],
   "source": [
    "import numpy\n",
    "numpy.arange? # справка о функции\n",
    "??numpy.arange"
   ]
  },
  {
   "cell_type": "code",
   "execution_count": 23,
   "id": "ca64ec98",
   "metadata": {},
   "outputs": [
    {
     "name": "stdout",
     "output_type": "stream",
     "text": [
      "CPU times: user 4 µs, sys: 0 ns, total: 4 µs\n",
      "Wall time: 8.11 µs\n"
     ]
    },
    {
     "data": {
      "text/plain": [
       "'Hello World!'"
      ]
     },
     "execution_count": 23,
     "metadata": {},
     "output_type": "execute_result"
    }
   ],
   "source": [
    "%%time\n",
    "'Hello World!'"
   ]
  },
  {
   "cell_type": "code",
   "execution_count": null,
   "id": "fed0f319",
   "metadata": {},
   "outputs": [],
   "source": [
    "%matplotlib inline\n",
    "%pwd\n",
    "%run file.py\n",
    "%env\n",
    "%lsmagic"
   ]
  },
  {
   "cell_type": "code",
   "execution_count": 24,
   "id": "cce9d4b0",
   "metadata": {},
   "outputs": [
    {
     "name": "stdout",
     "output_type": "stream",
     "text": [
      " .\t\t\t    sentences.docx\r\n",
      " ..\t\t\t    sp500.xlsx\r\n",
      "'1 Data Structures.ipynb'   TestJupyter.ipynb\r\n",
      " .ipynb_checkpoints\t   'Практика по теме _NumPy, SciPy, Matplotlib_.pdf'\r\n"
     ]
    }
   ],
   "source": [
    "!ls -a"
   ]
  },
  {
   "cell_type": "code",
   "execution_count": 6,
   "id": "3c5e4e13",
   "metadata": {},
   "outputs": [
    {
     "data": {
      "text/plain": [
       "array([0, 0])"
      ]
     },
     "execution_count": 6,
     "metadata": {},
     "output_type": "execute_result"
    }
   ],
   "source": [
    "import numpy as np\n",
    "x = np.array([1,2])\n",
    "w = np.array([4, 5, 6])\n",
    "\n",
    "n=0\n",
    "sum = 0\n",
    "for xi in x:\n",
    "    sum += w*xi**n\n",
    "w.sum()\n",
    "np.array([0]*x.size)"
   ]
  }
 ],
 "metadata": {
  "kernelspec": {
   "display_name": "Python 3.9.2 64-bit",
   "language": "python",
   "name": "python3"
  },
  "language_info": {
   "codemirror_mode": {
    "name": "ipython",
    "version": 3
   },
   "file_extension": ".py",
   "mimetype": "text/x-python",
   "name": "python",
   "nbconvert_exporter": "python",
   "pygments_lexer": "ipython3",
   "version": "3.9.2"
  },
  "vscode": {
   "interpreter": {
    "hash": "916dbcbb3f70747c44a77c7bcd40155683ae19c65e1c03b4aa3499c5328201f1"
   }
  }
 },
 "nbformat": 4,
 "nbformat_minor": 5
}
